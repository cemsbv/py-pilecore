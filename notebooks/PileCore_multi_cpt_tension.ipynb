{
 "cells": [
  {
   "cell_type": "markdown",
   "metadata": {},
   "source": [
    "# PileCore\n",
    "\n",
    "______________________________________________________________________\n",
    "\n",
    "**Authors: Thijs Lukkezen & Robin Wimmers**\n",
    "\n",
    "This notebook shows how to perform a pile bearing calculation with PileCore for multiple CPTs.\n",
    "\n",
    "The structure of the tutorial is as follows:\n",
    "\n",
    "- [Project definition](#Input-definition)\n",
    "- [Download CPT's in project](#Download-CPTs-in-project)\n",
    "- [Classify CPTs](#Classify-CPTs)\n",
    "- [Call PileCore-API](#Call-PileCore-API)\n",
    "- [View Results](#View-Results)\n",
    "- [Report](#Report)\n",
    "\n",
    "As usual, we start to install and import the libraries that are needed for this notebook."
   ]
  },
  {
   "cell_type": "code",
   "execution_count": null,
   "metadata": {},
   "outputs": [],
   "source": [
    "# %matplotlib widget\n",
    "\n",
    "import datetime\n",
    "import os\n",
    "import io\n",
    "from typing import Any, Dict, Hashable, Mapping, Tuple, List\n",
    "import logging\n",
    "\n",
    "import numpy as np\n",
    "import pandas as pd\n",
    "import pygef\n",
    "from matplotlib import pyplot as plt\n",
    "from pygef.cpt import CPTData\n",
    "\n",
    "from IPython.display import display\n",
    "from nuclei.client import NucleiClient\n",
    "from pygef.plotting import plot_cpt\n",
    "from tqdm import tqdm\n",
    "\n",
    "from pypilecore import api, create_basic_pile\n",
    "from pypilecore.common.piles.grid import PileGridProperties\n",
    "from pypilecore.input.tension import (\n",
    "    create_multi_cpt_payload,\n",
    "    create_multi_cpt_report_payload,\n",
    ")\n",
    "from pypilecore.results import (\n",
    "    MultiCPTTensionBearingResults,\n",
    "    CasesMultiCPTBearingResults,\n",
    ")\n",
    "\n",
    "from pypilecore.viewers import (\n",
    "    ViewerCptResults,\n",
    "    ViewerCptResultsPlanView,\n",
    "    ViewerCptGroupResults,\n",
    ")\n",
    "\n",
    "pd.set_option(\"display.max_columns\", None)\n",
    "logging.getLogger().setLevel(logging.INFO)"
   ]
  },
  {
   "cell_type": "markdown",
   "metadata": {},
   "source": [
    "### Start a Nuclei client session\n",
    "\n",
    "In the next cell we will create a nuclei-client with a session that takes care of the\n",
    "authentication and communication with the Nuclei server.\n",
    "\n",
    "You will need to provide your user token, which can be obtained by login in to the [nuclei website](https://nuclei.cemsbv.io/) with your personal credentials and going to the \"API Access Tokens\" section.\n",
    "\n",
    "<div style=\"background: #f2ed4c;\n",
    "            width: 100%;\n",
    "            color: black;\n",
    "            text-align: center;\">\n",
    "<b>USER INPUT REQUIRED BELOW:<b>\n",
    "</div>"
   ]
  },
  {
   "cell_type": "code",
   "execution_count": null,
   "metadata": {},
   "outputs": [],
   "source": [
    "# os.environ[\"NUCLEI_TOKEN\"] = \"<YOUR TOKEN>\"\n",
    "\n",
    "client = NucleiClient()"
   ]
  },
  {
   "cell_type": "markdown",
   "metadata": {},
   "source": [
    "# Input definition"
   ]
  },
  {
   "cell_type": "markdown",
   "metadata": {},
   "source": [
    "#### General input"
   ]
  },
  {
   "cell_type": "code",
   "execution_count": null,
   "metadata": {},
   "outputs": [],
   "source": [
    "# General input data\n",
    "project_id = 21305\n",
    "project_remark = \"Voorbeeld Notebook\"  # Optional additional information\n",
    "author = \"N. Uclei\"\n",
    "project_name = \"Automated pile design\""
   ]
  },
  {
   "cell_type": "markdown",
   "metadata": {},
   "source": [
    "#### Soil Investigation input"
   ]
  },
  {
   "cell_type": "code",
   "execution_count": null,
   "metadata": {},
   "outputs": [],
   "source": [
    "# Specify CPT selection\n",
    "\n",
    "# ** cpt_selection\n",
    "# Specify a list of CPTs names (i.e. BRO ID).\n",
    "cpt_selection = [\n",
    "    \"CPT000000059020\",\n",
    "    \"CPT000000061575\",\n",
    "    \"CPT000000061576\",\n",
    "    \"CPT000000061577\",\n",
    "    \"CPT000000061578\",\n",
    "    \"CPT000000061579\",\n",
    "    \"CPT000000061580\",\n",
    "    \"CPT000000064642\",\n",
    "]\n",
    "\n",
    "\n",
    "# ** classify_metode:\n",
    "# Metode used to classify CPT data.\n",
    "# Accepted values: [\"beenJefferies\", \"machineLearning\", \"nen\", \"table\", \"robertson\", \"ntype\"]\n",
    "classify_metode = \"ntype\""
   ]
  },
  {
   "cell_type": "markdown",
   "metadata": {},
   "source": [
    "#### Geometry input"
   ]
  },
  {
   "cell_type": "code",
   "execution_count": null,
   "metadata": {},
   "outputs": [],
   "source": [
    "# ** pile_tip_levels_nap\n",
    "# These are the levels (w.r.t. NAP) at which the bearing capacities will be calculated\n",
    "# It can be a list, or any other sequence, such as a numpy array.\n",
    "pile_tip_levels_nap = np.arange(-15, -25, -0.5)\n",
    "\n",
    "# ** pile_head_level_nap\n",
    "# The level of the pile-head [m] w.r.t. NAP.\n",
    "# Must be a number, or the string \"surface\". In the latter case, the pile-head will be\n",
    "# situated at the level of the original CPT surface level.\n",
    "pile_head_level_nap = \"surface\"\n",
    "\n",
    "# ** groundwater_level\n",
    "# The groundwater-level in the project (w.r.t. NAP). Will have an impact on the\n",
    "# classification and on the calculated soil-stresses.\n",
    "# When None, the water-level of the CPTs is used.\n",
    "groundwater_level_nap = -5"
   ]
  },
  {
   "cell_type": "markdown",
   "metadata": {},
   "source": [
    "#### Excavation input"
   ]
  },
  {
   "cell_type": "code",
   "execution_count": null,
   "metadata": {},
   "outputs": [],
   "source": [
    "# ** excavation_depth_nap:\n",
    "# The depth [m w.r.t. NAP] of the service-level after excavation.\n",
    "# Has to be below the origin al service-level of the CPT.\n",
    "excavation_depth_nap = None\n",
    "\n",
    "# ** excavation_param_t:\n",
    "# Required when providing an excavation_depth. The values can be:\n",
    "# - 1.0: if installation is not low in vibration (niet-trillingsarm) and piles are installed after excavating\n",
    "# - 0.5: (wortel-methode) if piles have been installed before excavation or installation is low-vibrating\n",
    "excavation_param_t = 0.5"
   ]
  },
  {
   "cell_type": "markdown",
   "metadata": {},
   "source": [
    "#### Construction and loads input"
   ]
  },
  {
   "cell_type": "code",
   "execution_count": null,
   "metadata": {},
   "outputs": [],
   "source": [
    "# ** construction_sequence:\n",
    "# Value that indicates if CPT are performed before or after pile\n",
    "# installation according to 7.3.1 CUR 2001-4.\n",
    "# Accepted values: [\"cpt-pile\", \"pile-cpt\"]\n",
    "# Notes: \n",
    "# - If standard \"NEN9997-1\" is used the following applies:\n",
    "#       - `cpt-pile`, then the `f1` factor is computed according to NEN 9997-1+C2:2017 7.6.3.3(e).\n",
    "#       - `pile-cpt`, then the `f1` factor is 1.0 at all depths.\n",
    "# - If standard \"CUR236\" is used `f1` is always 1.0 regardless of the \n",
    "#   construction sequence. \n",
    "construction_sequence = \"cpt-pile\"\n",
    "\n",
    "# ** stiff_construction:\n",
    "# The stiffness of the construction has an influence on the value of xi.\n",
    "# Accepted values: [True, False]\n",
    "stiff_construction = False\n",
    "\n",
    "# ** pile_load_sls_max\n",
    "# Maximum tension force on pile Ft;max;k. Note that only positive\n",
    "# values (tension force) are accepted.\n",
    "pile_load_sls_max = 350\n",
    "\n",
    "# ** pile_load_sls_min\n",
    "# Minimum tension force (or maximum compression force) on pile\n",
    "# -Ft;min;k (tension > 0). Positive values (tension force), negative\n",
    "# values (compression force) and 0.0 are accepted. Note that the\n",
    "# positive must be <= `pile_load_sls_max`\n",
    "pile_load_sls_min = 50\n",
    "\n",
    "# ** soil_load_sls:\n",
    "# The overburden-pressure at surface-level [kPa]\n",
    "# If None, the default is 0.0\n",
    "soil_load_sls = 0"
   ]
  },
  {
   "cell_type": "markdown",
   "metadata": {},
   "source": [
    "#### top of tension zone"
   ]
  },
  {
   "cell_type": "code",
   "execution_count": null,
   "metadata": {},
   "outputs": [],
   "source": [
    "# ** top_of_tension_zone_nap\n",
    "# Level (w.r.t. NAP) for with the bearing capacity we be calcualted.\n",
    "# If None top_of_tension_zone_nap will be pile_head_level_nap.\n",
    "# Please note that chaging the top_of_tension_zone_nap have in impact on the\n",
    "# pile settelement calculation. All values above this level will be ignored resulting\n",
    "# in a lower pile displacement.\n",
    "# !! PileCore will correct for remarks regarding L;a for CUR236 6.1.1. !!\n",
    "top_of_tension_zone_nap = -5.0\n",
    "\n",
    "# ** Overrule top_of_tension_zone_nap for specific CPTs\n",
    "# If desired, you can also specify top_of_tension_zone_nap values per CPT\n",
    "# The values provided below will overwrite the top_of_tension_zone_nap for those specific CPTs.\n",
    "\n",
    "# ** individual_top_of_tension_zone_nap\n",
    "# dictionary with key cpt name and top_of_tension_zone_nap value\n",
    "# e.g.: {\"S03\": 1.5}\n",
    "individual_top_of_tension_zone_nap: Mapping[Any, float] = {}"
   ]
  },
  {
   "cell_type": "markdown",
   "metadata": {},
   "source": [
    "#### OCR input"
   ]
  },
  {
   "cell_type": "code",
   "execution_count": null,
   "metadata": {},
   "outputs": [],
   "source": [
    "# ** ocr\n",
    "# The Over-Consolidation-Ratio [-] of the foundation layer.\n",
    "# If None, an OCR of 1.0 is assumed.\n",
    "ocr = None\n",
    "\n",
    "# ** Overrule OCR for specific CPTs\n",
    "# If desired, you can also specify OCR values per CPT\n",
    "# The values provided below will overwrite the OCR for those specific CPTs.\n",
    "\n",
    "# ** individual_ocr\n",
    "# dictionary with key cpt name and OCR value\n",
    "# e.g.: {\"S03\": 1.5}\n",
    "individual_ocr: Mapping[Any, float] = {}"
   ]
  },
  {
   "cell_type": "markdown",
   "metadata": {},
   "source": [
    "#### Safety Factors input"
   ]
  },
  {
   "cell_type": "code",
   "execution_count": null,
   "metadata": {},
   "outputs": [],
   "source": [
    "# ** gamma_gamma\n",
    "# Partial factor for volumetric soil weight. A.3.2 NEN 9997-1+C2 (nl)\n",
    "# Geotechnisch ontwerp van constructies - Deel 1 Algemene regels [2017]\n",
    "# If None, the default is 1.1\n",
    "gamma_gamma = 1.1\n",
    "\n",
    "# ** gamma_r_s\n",
    "# Safetyfactor on the sleeve-friction bearing capacity\n",
    "# If None, the default is 1.2\n",
    "gamma_r_s = 1.2\n",
    "\n",
    "# ** gamma_r_b\n",
    "# Safetyfactor on the pile-tip bearing capacity\n",
    "# If None, the default is 1.2\n",
    "gamma_r_b = 1.2\n",
    "\n",
    "# ** gamma_f_nk\n",
    "# Safetyfactor on the negative friction\n",
    "# Note: Use 1.4 if bottom negative friction ≠ positive friction\n",
    "# If None, the default is 1.0\n",
    "gamma_f_nk = 1.0\n",
    "\n",
    "# ** gamma_s_t\n",
    "# Pile resistance factor gamma_s;t used to compute the\n",
    "# design cone resistance values qc;z;d as prescribed in NEN 9997-1+C2_2017 7.6.3.3(d).\n",
    "# If None, the default is 1.35\n",
    "gamma_s_t = 1.35\n",
    "\n",
    "# ** overrule_xi\n",
    "# Sets a fixed value for xi\n",
    "overrule_xi = None"
   ]
  },
  {
   "cell_type": "markdown",
   "metadata": {},
   "source": [
    "## Pile input\n",
    "---\n"
   ]
  },
  {
   "cell_type": "code",
   "execution_count": null,
   "metadata": {},
   "outputs": [],
   "source": [
    "# ** pile_name\n",
    "# The name of the pile (For potential plotting purposes)\n",
    "pile_name = None"
   ]
  },
  {
   "cell_type": "markdown",
   "metadata": {},
   "source": [
    "### Standard piles\n",
    "\n",
    "Choose a `main_type`, `specification` and `installation` (optional) value to define a standard pile according to the NEN9997-1 or CUR236 definitions.\n",
    "\n",
    "You can also leave the standard pile definition empty and define all pile attributes manually.\n",
    "\n",
    "#### NEN9997-1\n",
    "![NEN9997-1a](./img/standard_piles-NEN9997-1.png)\n",
    "\n",
    "#### CUR-236\n",
    "![CUR236a](./img/standard_piles-CUR236.png)"
   ]
  },
  {
   "cell_type": "code",
   "execution_count": null,
   "metadata": {},
   "outputs": [],
   "source": [
    "# Standard Pile definition\n",
    "\n",
    "# ** standard\n",
    "# The choice of \"standard\" from one of the tables below.\n",
    "# Accepted values: [\"NEN9997-1\", \"CUR236\"]\n",
    "standard = \"CUR236\"\n",
    "\n",
    "# ** main_type\n",
    "# The choice of \"main_type\" from one of the tables below.\n",
    "# Accepted values: [\"concrete\", \"steel\", \"wood\", \"anchor\"]\n",
    "# when standard == CUR236 only anchor type piles are accepted\n",
    "main_type = \"anchor\"\n",
    "\n",
    "# ** specification\n",
    "# The \"specification\" section in the table below.\n",
    "specification = \"3\"\n",
    "\n",
    "# ** installation\n",
    "# The English-equivalent of the \"Installatie\" section in the table below.\n",
    "installation = None"
   ]
  },
  {
   "cell_type": "markdown",
   "metadata": {},
   "source": [
    "### Pile Geometry\n",
    "![pile_geometry_definitions](./img/pile_geometry_definitions.png)"
   ]
  },
  {
   "cell_type": "code",
   "execution_count": null,
   "metadata": {},
   "outputs": [],
   "source": [
    "# ** pile_shape\n",
    "# The shape of the pile\n",
    "# Accepted values: [\"round\", \"rectangle\"]\n",
    "pile_shape = \"round\"\n",
    "\n",
    "# ** height_base\n",
    "# Height of pile base [m]. If None, a pile with constant dimension is inferred.\n",
    "# When standard == CUR236 height_base should be None, making the shaft dimensions equal to the base dimensions.\n",
    "height_base = None"
   ]
  },
  {
   "cell_type": "markdown",
   "metadata": {},
   "source": [
    "### Rectangular pile dimensions\n",
    "\n",
    "Only fill these values if the `pile_shape` == \"rectangle\". Otherwise they are ignored\n",
    "\n",
    "The pile geometry is defined as a \"core\" and \"shell\" segment. First we define the \"core\",\n",
    "which is a required part that should always be there for a rectangular pile."
   ]
  },
  {
   "cell_type": "code",
   "execution_count": null,
   "metadata": {},
   "outputs": [],
   "source": [
    "# ** core_secondary_dimension\n",
    "# Largest cross-sectional dimension of the core component [m].\n",
    "core_secondary_dimension = 0.40\n",
    "\n",
    "# ** core_tertiary_dimension\n",
    "# Smallest cross-sectional dimension of the core component [m].\n",
    "# If None, a square core is inferred.\n",
    "core_tertiary_dimension = None\n",
    "\n",
    "# Base dimensions (optional)\n",
    "# --------------------------\n",
    "# Optionally, we can define a \"base\" segment. This segment should have larger dimensions than the core.\n",
    "# Make sure to also fill a value for the `height_base` (in the general geometry cell above).\n",
    "\n",
    "# ** base_secondary_dimension\n",
    "# Largest cross-sectional dimension of the widened-base component [m].\n",
    "base_secondary_dimension = None\n",
    "\n",
    "# ** base_tertiary_dimension\n",
    "# Smallest cross-sectional dimension of the widened-base component [m].\n",
    "# If None, a square base is inferred.\n",
    "base_tertiary_dimension = None"
   ]
  },
  {
   "cell_type": "markdown",
   "metadata": {},
   "source": [
    "### Round pile dimensions\n",
    "\n",
    "Only fill these values if the `pile_shape` == \"round\". Otherwise they are ignored\n",
    "\n",
    "The pile geometry is defined as a \"core\" and \"shell\" segment. First we define the \"core\",\n",
    "which is a required part that should always be there for a round pile."
   ]
  },
  {
   "cell_type": "code",
   "execution_count": null,
   "metadata": {},
   "outputs": [],
   "source": [
    "# ** core_diameter\n",
    "# Diameter of the core component [m].\n",
    "core_diameter = 0.22\n",
    "\n",
    "# Base dimension (optional)\n",
    "# --------------------------\n",
    "# Optionally, we can define a \"base\" segment. This segment should have larger dimensions than the core.\n",
    "# Make sure to also fill a value for the `height_base` (in the general geometry cell above).\n",
    "# Please note that when standard == CUR236 that base dimension is used for the grout shell and must\n",
    "# be provided.\n",
    "\n",
    "# ** base_diameter\n",
    "# Diameter of the widened-base [m].\n",
    "# If null, a pile with constant diameter (diameter_base) is inferred.\n",
    "base_diameter = 0.40"
   ]
  },
  {
   "cell_type": "markdown",
   "metadata": {},
   "source": [
    "### Optionally overwriteable pile input\n",
    "\n",
    "If you want to use the default pile specifications you can ignore this section. Any\n",
    "value provided will overwrite the default value."
   ]
  },
  {
   "cell_type": "code",
   "execution_count": null,
   "metadata": {},
   "outputs": [],
   "source": [
    "# Optional Input\n",
    "\n",
    "# ** pile_material\n",
    "# The material name of the pile. If a standard pile was selected, the material is\n",
    "# inferred, but can be overwritten. Default materials are: \"concrete\", \"steel\", \"wood\".\n",
    "# Custom materials can be defined below.\n",
    "pile_material = None\n",
    "\n",
    "# ** custom_material\n",
    "# A custom material definition. Assign the \"name\" property as `pile_material` to use it.\n",
    "# example:\n",
    "# custom_material = {\n",
    "#     \"name\": \"custom_material\",\n",
    "#     \"elastic_modulus\": 15e3,    # [MPa]\n",
    "#     \"color\": \"#ff0000\",        # Hexadecimal color\n",
    "# }\n",
    "custom_material = None\n",
    "\n",
    "# ** settlement_curve\n",
    "# Settlement lines for figures 7.n and 7.o of NEN-9997-1 As defined in table 7.c of\n",
    "# NEN-9997-1. The value is inferred from the pile_type_specifications, but can be\n",
    "# overwritten\n",
    "settlement_curve = None\n",
    "\n",
    "# ** adhesion\n",
    "# Optional adhesion value, use it if the pile shaft has undergone a special treatment.\n",
    "# Examples:\n",
    "# - adhesion = 50 kN/m2 for synthetic coating\n",
    "# - adhesion = 20 kN/m2 for bentonite\n",
    "# - adhesion = 10 kN/m2 for bitumen coating\n",
    "# See 7.3.2.2(d) of NEN 9997-1 for examples.\n",
    "adhesion = None  # kPa\n",
    "\n",
    "# ** alpha_p\n",
    "# Alpha p factor used in pile tip resistance calculation. The value is inferred from the\n",
    "# pile_type_specifications, but can be overwritten.\n",
    "alpha_p = None\n",
    "\n",
    "# ** alpha_s_clay\n",
    "# Alpha s factor for soft layers used in the positive friction calculation. If None the\n",
    "# factor is determined as specified in table 7.d of NEN 9997-1.\n",
    "alpha_s_clay = None\n",
    "\n",
    "# ** alpha_s_sand\n",
    "# Alpha s factor for coarse layers used in the positive friction calculation. The value\n",
    "# is inferred from the pile_type_specifications, but can be overwritten.\n",
    "alpha_s_sand = None\n",
    "\n",
    "# ** alpha_t_clay\n",
    "# Alpha t factor for soft layers used in the positive friction calculation. If None the\n",
    "# factor is determined as specified in table 7.d of NEN 9997-1.\n",
    "alpha_t_clay = None\n",
    "\n",
    "# ** alpha_t_sand\n",
    "# Alpha t factor for coarse layers used in the positive friction calculation. The value\n",
    "# is inferred from the pile_type_specifications, but can be overwritten.\n",
    "alpha_t_sand = None\n",
    "\n",
    "# ** beta_p\n",
    "# Beta_p used in pile tip resistance calculation as per NEN 9997-1 7.6.2.3 (h). The\n",
    "# value is inferred from the pile dimension properties, but can be overwritten\n",
    "beta_p = None\n",
    "\n",
    "# ** pile_tip_factor_s\n",
    "# Factor s used in pile tip resistance calculation as per NEN 9997-1 7.6.2.3 (h). The\n",
    "# value is inferred from the pile dimensions and soil properties, but can be overwritten.\n",
    "pile_tip_factor_s = None\n",
    "\n",
    "# ** is_auger\n",
    "# Determines weather the pile the pile is an auger pile or not. The value is inferred\n",
    "# from the pile_type_specifications, but can be overwritten.\n",
    "# Accepted values: [True, False, None]\n",
    "is_auger = None\n",
    "\n",
    "# ** is_low_vibrating\n",
    "# Determines weather the pile has an installation type with low vibration. The value is\n",
    "# inferred from the pile_type_specifications, but can be overwritten.\n",
    "# Accepted values: [True, False, None]\n",
    "is_low_vibrating = None\n",
    "\n",
    "# ** negative_fr_delta_factor\n",
    "# factor * φ = δ. This parameter will be multiplied with phi to get the delta parameter\n",
    "# used in negative friction calculation according to NEN-9997-1 7.3.2.2 (e). Typically\n",
    "# values are 1.0 for piles cast in place, and 0.75 for other pile types. The value is\n",
    "# inferred from the pile_type_specifications, but can be overwritten.\n",
    "negative_fr_delta_factor = None\n",
    "\n",
    "# ** qc_z_a_lesser_1m\n",
    "# Maximum cone resistance `qc` value allowed for layers with thickness < 1m in\n",
    "# the calculation of positive skin friction resistance. This value is used to compute the\n",
    "# trimmed (chamfered) `qc;z;a` values according to NEN 9997-1+C2:2017 7.6.2.3.(10)(i).\n",
    "# It must be less or equal than `qc_z_a_greater_1m`. If None, then 12 MPa is used.\n",
    "# This attribute only applies to the NEN-9997 pile types and standards.\n",
    "qc_z_a_lesser_1m = None\n",
    "\n",
    "# ** qc_z_a_greater_1m\n",
    "# Maximum cone resistance `qc` value allowed for layers with thickness >= 1m in\n",
    "# the calculation of positive skin friction resistance. This value is used to compute the\n",
    "# trimmed (chamfered) `qc;z;a` values according to NEN 9997-1+C2:2017 7.6.2.3.(10)(i)\n",
    "# It must be greater or equal than `qc_z_a_lesser_1m`. If None, then 15 MPa is used.\n",
    "# This attribute only applies to the NEN-9997 pile types and standards.\n",
    "qc_z_a_greater_1m = None\n",
    "\n",
    "# ** chamfered\n",
    "# The chamfered value can be overwritten by the user [MPa].\n",
    "# This attribute only applies to the CUR-236 pile types and standards.\n",
    "chamfered = None"
   ]
  },
  {
   "cell_type": "markdown",
   "metadata": {},
   "source": [
    "### Create Pile"
   ]
  },
  {
   "cell_type": "code",
   "execution_count": null,
   "metadata": {},
   "outputs": [],
   "source": [
    "pile = create_basic_pile(\n",
    "    pile_name=pile_name,\n",
    "    main_type=main_type,\n",
    "    specification=specification,\n",
    "    installation=installation,\n",
    "    pile_shape=pile_shape,\n",
    "    height_base=height_base,\n",
    "    core_secondary_dimension=core_secondary_dimension,\n",
    "    core_tertiary_dimension=core_tertiary_dimension,\n",
    "    base_secondary_dimension=base_secondary_dimension,\n",
    "    base_tertiary_dimension=base_tertiary_dimension,\n",
    "    core_diameter=core_diameter,\n",
    "    base_diameter=base_diameter,\n",
    "    pile_material=pile_material,\n",
    "    custom_material=custom_material,\n",
    "    settlement_curve=settlement_curve,\n",
    "    adhesion=adhesion,\n",
    "    alpha_p=alpha_p,\n",
    "    alpha_s_clay=alpha_s_clay,\n",
    "    alpha_s_sand=alpha_s_sand,\n",
    "    alpha_t_clay=alpha_t_clay,\n",
    "    alpha_t_sand=alpha_t_sand,\n",
    "    beta_p=beta_p,\n",
    "    pile_tip_factor_s=pile_tip_factor_s,\n",
    "    is_auger=is_auger,\n",
    "    is_low_vibrating=is_low_vibrating,\n",
    "    negative_fr_delta_factor=negative_fr_delta_factor,\n",
    "    qc_z_a_lesser_1m=qc_z_a_lesser_1m,\n",
    "    qc_z_a_greater_1m=qc_z_a_greater_1m,\n",
    "    chamfered=chamfered,\n",
    ")"
   ]
  },
  {
   "cell_type": "code",
   "execution_count": null,
   "metadata": {},
   "outputs": [],
   "source": [
    "pile.geometry.plot();"
   ]
  },
  {
   "cell_type": "markdown",
   "metadata": {},
   "source": [
    "### Other input\n",
    "\n",
    "Some other input values."
   ]
  },
  {
   "cell_type": "code",
   "execution_count": null,
   "metadata": {},
   "outputs": [],
   "source": [
    "# ** void_ratio_max\n",
    "# Maximum void ratio of the soil (the loosest packing). The influence\n",
    "# of this parameter is limited, and therefore it is typically\n",
    "# sufficient to provide a global estimation. For normally consolidated\n",
    "# sands in The Netherlands, an emax = 0.80 can be used in most cases.\n",
    "void_ratio_max = 0.8\n",
    "\n",
    "# ** void_ratio_min\n",
    "# Minimum void ratio of the soil (the densest packing). The influence\n",
    "# of this parameter is limited, and therefore it is typically\n",
    "# sufficient to provide a global estimation. For normally consolidated\n",
    "# sands in The Netherlands, an emin = 0.40 can be used in most cases.\n",
    "void_ratio_min = 0.4"
   ]
  },
  {
   "cell_type": "code",
   "execution_count": null,
   "metadata": {},
   "outputs": [],
   "source": [
    "# ** center_to_center_distance\n",
    "# Centre to centre distance of regular grid [m]\n",
    "# if None pile is calculated as a single pile\n",
    "center_to_center_distance = None\n",
    "\n",
    "# ** pile_location\n",
    "# - center pile `pile_location= 4`\n",
    "# - middle pile `pile_location= 1 or 3 or 4 or 5 or 7`\n",
    "# - corner pile `pile_location= 0 or 2 or 6 or 8`\n",
    "\n",
    "#     6 --- 7 --- 8\n",
    "#     |     |     |\n",
    "#     3 --- 4 --- 5\n",
    "#     |     |     |\n",
    "#     0 --- 1 --- 2   with --- is | is center_to_center_distance\n",
    "pile_location = 4"
   ]
  },
  {
   "cell_type": "code",
   "execution_count": null,
   "metadata": {},
   "outputs": [],
   "source": [
    "if center_to_center_distance:\n",
    "    pile_grid = PileGridProperties.regular(\n",
    "        ctc=center_to_center_distance, index_location=pile_location\n",
    "    )\n",
    "    pile_grid.plot_overview()\n",
    "else:\n",
    "    pile_grid = None"
   ]
  },
  {
   "cell_type": "markdown",
   "metadata": {},
   "source": [
    "### Report content\n",
    "\n",
    "These values define the content of the report"
   ]
  },
  {
   "cell_type": "code",
   "execution_count": null,
   "metadata": {},
   "outputs": [],
   "source": [
    "# ** group_results_content\n",
    "# Whether or not to add a section with the results of all CPTs considered as one\n",
    "# statistical group.\n",
    "# Accepted values: [True, False]\n",
    "group_results_content = True\n",
    "\n",
    "# ** individual_cpt_results_content\n",
    "# Whether or not to add a separate result section for each individual CPT.\n",
    "# Accepted values: [True, False]\n",
    "individual_cpt_results_content = True\n",
    "\n",
    "# ** result_summary_content\n",
    "# Whether or not to add a summary of all results in the beginning of the report.\n",
    "# Accepted values: [True, False]\n",
    "result_summary_content = True"
   ]
  },
  {
   "cell_type": "markdown",
   "metadata": {},
   "source": [
    "<div style=\"background: #f2ed4c;\n",
    "            width: 100%;\n",
    "            color: black;\n",
    "            text-align: center;\">\n",
    "<b>END USER INPUT<b>\n",
    "</div>\n",
    "\n",
    "After this point, modifications are for expert users"
   ]
  },
  {
   "cell_type": "markdown",
   "metadata": {},
   "source": [
    "#### Download CPTs in project"
   ]
  },
  {
   "cell_type": "code",
   "execution_count": null,
   "metadata": {},
   "outputs": [],
   "source": [
    "# Get CPTs\n",
    "# loop over the cpt id's and fetch file from BRO\n",
    "cptdata_objects: List[CPTData] = []\n",
    "for file_metadata in tqdm(cpt_selection, desc=\"Download CPT's from BRO\"):\n",
    "    # download CPT from BRO\n",
    "    response = client.session.get(\n",
    "        url=f\"https://publiek.broservices.nl/sr/cpt/v1/objects/{file_metadata}\"\n",
    "    )\n",
    "    if not response.ok:\n",
    "        print(\n",
    "            f\"RuntimeError: {file_metadata} could not be donwloaded from de BRO server. \\n Statuse code: {response.status_code}\"\n",
    "        )\n",
    "        continue\n",
    "\n",
    "    cpt = pygef.read_cpt(io.BytesIO(response.content))\n",
    "    object.__setattr__(cpt, \"alias\", file_metadata)\n",
    "    cptdata_objects.append(cpt)"
   ]
  },
  {
   "cell_type": "markdown",
   "metadata": {},
   "source": [
    "#### Classify CPTs"
   ]
  },
  {
   "cell_type": "code",
   "execution_count": null,
   "metadata": {},
   "outputs": [],
   "source": [
    "classify_tables: Dict[str, dict] = {}\n",
    "\n",
    "for i, cpt in tqdm(enumerate(cptdata_objects), desc=\"Classify CPT's\"):\n",
    "    # remove nan data\n",
    "    data = cpt.data.drop_nulls()\n",
    "\n",
    "    # classify CPT with CPTCore\n",
    "    payload = {\n",
    "        \"aggregateLayersPenalty\": 5,\n",
    "        \"minimumSegmentLength\": 5,\n",
    "        \"data\": {\n",
    "            \"coneResistance\": data.get_column(\"coneResistance\").clip(0, 50).to_list(),\n",
    "            \"correctedPenetrationLength\": data.get_column(\"depth\").to_list(),\n",
    "            \"localFriction\": data.get_column(\"localFriction\").clip(0, 50).to_list(),\n",
    "        },\n",
    "        \"verticalPositionOffset\": cpt.delivered_vertical_position_offset,\n",
    "        \"x\": cpt.delivered_location.x,\n",
    "        \"y\": cpt.delivered_location.y,\n",
    "    }\n",
    "    if \"porePressureU2\" in data.columns:\n",
    "        payload[\"data\"][\"porePressureU2\"] = (\n",
    "            data.get_column(\"porePressureU2\").clip(0, 50).to_list(),\n",
    "        )[0]\n",
    "\n",
    "    response = client.session.post(\n",
    "        f\"https://crux-nuclei.com/api/cptcore/v1/classify/{classify_metode}\",\n",
    "        json=payload,\n",
    "    )\n",
    "    if not response.ok:\n",
    "        cptdata_objects.pop(i)\n",
    "        print(\n",
    "            f\"RuntimeError: {file_metadata} could not be classified. \\n Statuse code: {response.status_code}\"\n",
    "        )\n",
    "        continue\n",
    "    classify_tables[cpt.alias] = response.json()"
   ]
  },
  {
   "cell_type": "markdown",
   "metadata": {},
   "source": [
    "#### Call PileCore-API"
   ]
  },
  {
   "cell_type": "code",
   "execution_count": null,
   "metadata": {},
   "outputs": [],
   "source": [
    "# Get results\n",
    "\n",
    "multi_cpt_payload, results_passover = create_multi_cpt_payload(\n",
    "    cptdata_objects=cptdata_objects,\n",
    "    classify_tables=classify_tables,\n",
    "    groundwater_level_nap=groundwater_level_nap,\n",
    "    excavation_depth_nap=excavation_depth_nap,\n",
    "    pile=pile,\n",
    "    excavation_param_t=excavation_param_t,\n",
    "    pile_head_level_nap=pile_head_level_nap,\n",
    "    pile_tip_levels_nap=pile_tip_levels_nap,\n",
    "    gamma_f_nk=gamma_f_nk,\n",
    "    gamma_r_b=gamma_r_b,\n",
    "    gamma_r_s=gamma_r_s,\n",
    "    gamma_s_t=gamma_s_t,\n",
    "    gamma_gamma=gamma_gamma,\n",
    "    overrule_xi=overrule_xi,\n",
    "    void_ratio_max=void_ratio_max,\n",
    "    void_ratio_min=void_ratio_min,\n",
    "    pile_load_sls_max=pile_load_sls_max,\n",
    "    pile_load_sls_min=pile_load_sls_min,\n",
    "    soil_load_sls=soil_load_sls,\n",
    "    stiff_construction=stiff_construction,\n",
    "    ocr=ocr,\n",
    "    individual_ocr=individual_ocr,\n",
    "    pile_grid=pile_grid,\n",
    "    top_of_tension_zone_nap=top_of_tension_zone_nap,\n",
    "    individual_top_of_tension_zone_nap=individual_top_of_tension_zone_nap,\n",
    "    construction_sequence=construction_sequence,\n",
    ")\n",
    "\n",
    "api_response = api.get_multi_cpt_api_result_tension(\n",
    "    client=client, payload=multi_cpt_payload, standard=standard\n",
    ")\n",
    "\n",
    "multi_bearing_results = MultiCPTTensionBearingResults.from_api_response(\n",
    "    response_dict=api_response,\n",
    "    cpt_input=results_passover,\n",
    ")"
   ]
  },
  {
   "cell_type": "markdown",
   "metadata": {},
   "source": [
    "## View Results"
   ]
  },
  {
   "cell_type": "code",
   "execution_count": null,
   "metadata": {},
   "outputs": [],
   "source": [
    "# plot the bearing capacities for the CPTs as a single group\n",
    "multi_bearing_results.group_results_table.plot_bearing_capacities();"
   ]
  },
  {
   "cell_type": "code",
   "execution_count": null,
   "metadata": {
    "scrolled": true
   },
   "outputs": [],
   "source": [
    "# Get the results table for the CPT group\n",
    "\n",
    "multi_bearing_results.group_results_table.to_pandas().round(2)"
   ]
  },
  {
   "cell_type": "markdown",
   "metadata": {},
   "source": [
    "Results for individual CPTs"
   ]
  },
  {
   "cell_type": "code",
   "execution_count": null,
   "metadata": {},
   "outputs": [],
   "source": [
    "R_t_d_kluit = multi_bearing_results.cpt_results.get_results_per_cpt(\n",
    "    column_name=\"R_t_d_plug\"\n",
    ").round(1)\n",
    "# R_t_d_kluit.to_csv(f\"{project_name} Kluidgewicht.csv\")\n",
    "\n",
    "print(\"Kluidgewicht\")\n",
    "R_t_d_kluit"
   ]
  },
  {
   "cell_type": "code",
   "execution_count": null,
   "metadata": {},
   "outputs": [],
   "source": [
    "R_t_d = multi_bearing_results.cpt_results.get_results_per_cpt(\n",
    "    column_name=\"R_t_d\"\n",
    ").round(1)\n",
    "# R_t_d.to_csv(f\"{project_name} Schachtweerstand.csv\")\n",
    "\n",
    "print(\"Schachtweerstand\")\n",
    "R_t_d"
   ]
  },
  {
   "cell_type": "markdown",
   "metadata": {},
   "source": [
    "## Interactive Viewers"
   ]
  },
  {
   "cell_type": "code",
   "execution_count": null,
   "metadata": {},
   "outputs": [],
   "source": [
    "# Optionally define a case name for the results (to be shown in the interactive viewers)\n",
    "case_name = None"
   ]
  },
  {
   "cell_type": "code",
   "execution_count": null,
   "metadata": {},
   "outputs": [],
   "source": [
    "# Parse the results into a CasesMultiCPTBearingResults\n",
    "results_per_case = {\n",
    "    case_name: multi_bearing_results,\n",
    "}\n",
    "\n",
    "cpt_locations = {cpt.alias: cpt.delivered_location for cpt in cptdata_objects}\n",
    "\n",
    "cases_multi_results = CasesMultiCPTBearingResults(\n",
    "    results_per_case=results_per_case, cpt_locations=cpt_locations\n",
    ")"
   ]
  },
  {
   "cell_type": "markdown",
   "metadata": {},
   "source": [
    "Viewer Cpt Results"
   ]
  },
  {
   "cell_type": "code",
   "execution_count": null,
   "metadata": {},
   "outputs": [],
   "source": [
    "viewer_cpt_results = ViewerCptResults(cases_multi_results=cases_multi_results)\n",
    "viewer_cpt_results.display()"
   ]
  },
  {
   "cell_type": "markdown",
   "metadata": {},
   "source": [
    "Viewer Cpt Results Plan View"
   ]
  },
  {
   "cell_type": "code",
   "execution_count": null,
   "metadata": {},
   "outputs": [],
   "source": [
    "viewer_cpt_results_plan_view = ViewerCptResultsPlanView(\n",
    "    cases_multi_results=cases_multi_results\n",
    ")\n",
    "viewer_cpt_results_plan_view.display()"
   ]
  },
  {
   "cell_type": "markdown",
   "metadata": {},
   "source": [
    "Viewer Cpt Group Results"
   ]
  },
  {
   "cell_type": "code",
   "execution_count": null,
   "metadata": {},
   "outputs": [],
   "source": [
    "viewer_cpt_group_results = ViewerCptGroupResults(\n",
    "    cases_multi_results=cases_multi_results\n",
    ")\n",
    "viewer_cpt_group_results.display()"
   ]
  },
  {
   "cell_type": "markdown",
   "metadata": {},
   "source": [
    "#### Single CPT inspection\n",
    "\n",
    "It's possilbe to select one CPT from the group result. This object holds all the data releated to a singel CPT, like soil table and coneResistance."
   ]
  },
  {
   "cell_type": "code",
   "execution_count": null,
   "metadata": {},
   "outputs": [],
   "source": [
    "# Get the available CPT names\n",
    "multi_bearing_results.cpt_names"
   ]
  },
  {
   "cell_type": "code",
   "execution_count": null,
   "metadata": {},
   "outputs": [],
   "source": [
    "# Select a CPT test-id to inspect\n",
    "single_cpt_result = multi_bearing_results.cpt_results[\"CPT000000059020\"]"
   ]
  },
  {
   "cell_type": "code",
   "execution_count": null,
   "metadata": {},
   "outputs": [],
   "source": [
    "# Get pandas dataframe of single-cpt results\n",
    "\n",
    "single_cpt_result.table.to_pandas()"
   ]
  },
  {
   "cell_type": "code",
   "execution_count": null,
   "metadata": {},
   "outputs": [],
   "source": [
    "single_cpt_result.pile_grid_properties.plot_overview();"
   ]
  },
  {
   "cell_type": "markdown",
   "metadata": {},
   "source": [
    "## Report"
   ]
  },
  {
   "cell_type": "code",
   "execution_count": null,
   "metadata": {},
   "outputs": [],
   "source": [
    "# Create report\n",
    "\n",
    "# Close all open plots to save memory\n",
    "plt.close(\"All\")\n",
    "\n",
    "multi_cpt_report_payload = create_multi_cpt_report_payload(\n",
    "    multi_cpt_payload=multi_cpt_payload,\n",
    "    project_name=project_name,\n",
    "    project_id=str(project_id),\n",
    "    author=author,\n",
    "    date=datetime.date.today().strftime(\"%d-%m-%y\"),\n",
    "    group_results_content=group_results_content,\n",
    "    individual_cpt_results_content=individual_cpt_results_content,\n",
    "    result_summary_content=result_summary_content,\n",
    ")\n",
    "\n",
    "report = api.get_multi_cpt_api_report_tension(\n",
    "    client=client, payload=multi_cpt_report_payload, standard=standard\n",
    ")\n",
    "\n",
    "with open(f\"{project_name}_report.pdf\", \"wb\") as f:\n",
    "    f.write(report)"
   ]
  }
 ],
 "metadata": {
  "kernelspec": {
   "display_name": "Python 3 (ipykernel)",
   "language": "python",
   "name": "python3"
  },
  "language_info": {
   "codemirror_mode": {
    "name": "ipython",
    "version": 3
   },
   "file_extension": ".py",
   "mimetype": "text/x-python",
   "name": "python",
   "nbconvert_exporter": "python",
   "pygments_lexer": "ipython3",
   "version": "3.12.0"
  }
 },
 "nbformat": 4,
 "nbformat_minor": 4
}
