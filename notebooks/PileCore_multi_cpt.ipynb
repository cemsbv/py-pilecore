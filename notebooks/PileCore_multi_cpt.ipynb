{
 "cells": [
  {
   "cell_type": "markdown",
   "metadata": {},
   "source": [
    "# PileCore\n",
    "\n",
    "______________________________________________________________________\n",
    "\n",
    "**Authors: Thijs Lukkezen & Robin Wimmers**\n",
    "\n",
    "This notebook shows how to perform a pile bearing calculation with PileCore for multiple CPTs.\n",
    "\n",
    "The structure of the tutorial is as follows:\n",
    "\n",
    "- [Project definition](#Input-definition)\n",
    "- [Download CPT's in project](#Download-CPTs-in-project)\n",
    "- [Classify CPTs](#Classify-CPTs)\n",
    "- [Call PileCore-API](#Call-PileCore-API)\n",
    "- [View Results](#View-Results)\n",
    "- [Report](#Report)\n",
    "\n",
    "As usual, we start to install and import the libraries that are needed for this notebook."
   ]
  },
  {
   "cell_type": "code",
   "execution_count": 1,
   "metadata": {},
   "outputs": [],
   "source": [
    "import datetime\n",
    "import os\n",
    "import io\n",
    "from typing import Any, Dict, Mapping, Tuple\n",
    "\n",
    "import numpy as np\n",
    "import pandas as pd\n",
    "import pygef\n",
    "from matplotlib import pyplot as plt\n",
    "from nuclei.client import NucleiClient\n",
    "from pypilecore.input import create_multi_cpt_payload\n",
    "from pypilecore import api\n",
    "from pypilecore.results import MultiCPTBearingResults, GrouperResults\n",
    "from tqdm import tqdm\n",
    "\n",
    "pd.set_option(\"display.max_columns\", None)"
   ]
  },
  {
   "cell_type": "markdown",
   "metadata": {},
   "source": [
    "### Start a Nuclei client session\n",
    "\n",
    "In the next cell we will create a nuclei-client with a session that takes care of the\n",
    "authentication and communication with the Nuclei server.\n",
    "\n",
    "You will need to provide your user token, which can be obtained by login in to the [nuclei website](https://nuclei.cemsbv.io/) with your personal credentials and going to the \"API Access Tokens\" section.\n",
    "\n",
    "<div style=\"background: #f2ed4c;\n",
    "            width: 100%;\n",
    "            color: black;\n",
    "            text-align: center;\">\n",
    "<b>USER INPUT REQUIRED BELOW:<b>\n",
    "</div>"
   ]
  },
  {
   "cell_type": "code",
   "execution_count": 2,
   "metadata": {},
   "outputs": [],
   "source": [
    "# os.environ[\"NUCLEI_TOKEN\"] = \"<YOUR TOKEN>\"\n",
    "\n",
    "client = NucleiClient()"
   ]
  },
  {
   "cell_type": "markdown",
   "metadata": {},
   "source": [
    "# Input definition"
   ]
  },
  {
   "cell_type": "markdown",
   "metadata": {},
   "source": [
    "#### General input"
   ]
  },
  {
   "cell_type": "code",
   "execution_count": 3,
   "metadata": {},
   "outputs": [],
   "source": [
    "# General input data\n",
    "project_id = 21305  # also used to select cpt\n",
    "project_remark = \"Voorbeeld Notebook\"  # Optional additional information\n",
    "author = \"N. Uclei\"\n",
    "project_name = \"Automated pile design\""
   ]
  },
  {
   "cell_type": "markdown",
   "metadata": {},
   "source": [
    "#### Soil Investigation input"
   ]
  },
  {
   "cell_type": "code",
   "execution_count": 4,
   "metadata": {},
   "outputs": [],
   "source": [
    "# Specify CPT selection from project\n",
    "\n",
    "# ** cpt_selection\n",
    "# Specify a list of CPTs names (i.e. BRO ID).\n",
    "cpt_selection = [\n",
    "    \"CPT000000200908\",\n",
    "    \"CPT000000200909\",\n",
    "    \"CPT000000112272\",\n",
    "    \"CPT000000112268\",\n",
    "    \"CPT000000112278\",\n",
    "    \"CPT000000200904\",\n",
    "    \"CPT000000200905\",\n",
    "    \"CPT000000112265\",\n",
    "    \"CPT000000200906\",\n",
    "    \"CPT000000200907\",\n",
    "]\n",
    "\n",
    "\n",
    "# ** classify_metode:\n",
    "# Metode used to classify CPT data.\n",
    "# Accepted values: [\"beenJefferies\", \"machineLearning\", \"nen\", \"table\", \"robertson\", \"table\"]\n",
    "classify_metode = \"robertson\""
   ]
  },
  {
   "cell_type": "markdown",
   "metadata": {},
   "source": [
    "#### Geometry input"
   ]
  },
  {
   "cell_type": "code",
   "execution_count": 5,
   "metadata": {},
   "outputs": [],
   "source": [
    "# ** pile_tip_levels_nap\n",
    "# These are the levels (w.r.t. NAP) at which the bearing capacities will be calculated\n",
    "# It can be a list, or any other sequence, such as a numpy array.\n",
    "pile_tip_levels_nap = np.arange(-16, -20, -0.5)\n",
    "\n",
    "# ** pile_head_level_nap\n",
    "# The level of the pile-head [m] w.r.t. NAP.\n",
    "# Must be a number, or the string \"surface\". In the latter case, the pile-head will be\n",
    "# situated at the level of the original CPT surface level.\n",
    "pile_head_level_nap = \"surface\"\n",
    "\n",
    "# ** groundwater_level\n",
    "# The groundwater-level in the project (w.r.t. NAP). Will have an impact on the\n",
    "# classification and on the calculated soil-stresses.\n",
    "# When None, the water-level of the CPTs is used.\n",
    "groundwater_level_nap = None"
   ]
  },
  {
   "cell_type": "markdown",
   "metadata": {},
   "source": [
    "#### Excavation input"
   ]
  },
  {
   "cell_type": "code",
   "execution_count": 6,
   "metadata": {},
   "outputs": [],
   "source": [
    "# ** excavation_depth_nap:\n",
    "# The depth [m w.r.t. NAP] of the service-level after excavation.\n",
    "# Has to be below the origin al service-level of the CPT.\n",
    "excavation_depth_nap = None\n",
    "\n",
    "# ** excavation_param_t:\n",
    "# Required when providing an excavation_depth. The values can be:\n",
    "# - 1.0: if installation is not low in vibration (niet-trillingsarm) and piles are installed after excavating\n",
    "# - 0.5: (wortel-methode) if piles have been installed before excavation or installation is low-vibrating\n",
    "excavation_param_t = None"
   ]
  },
  {
   "cell_type": "markdown",
   "metadata": {},
   "source": [
    "#### Construction and loads input"
   ]
  },
  {
   "cell_type": "code",
   "execution_count": 7,
   "metadata": {},
   "outputs": [],
   "source": [
    "# ** stiff_construction:\n",
    "# The stiffness of the construction has an influence on the value of xi.\n",
    "# Accepted values: [True, False]\n",
    "stiff_construction = False\n",
    "\n",
    "# ** pile_load_sls:\n",
    "# The load on the pile-head [kN] (in serviceability state / SLS)\n",
    "# if None, A fraction of the bearing capacity is used as load to calculate the pile settlement + pile shortening\n",
    "# Accepted values: > 0.0\n",
    "pile_load_sls = None\n",
    "\n",
    "# ** relative_pile_load:\n",
    "# The fraction of the bearing capacity that is mentioned at `pile_load_sls`.\n",
    "# If None, the default is 0.7 (i.e. 70%)\n",
    "# Accepted values: between 0.0 and 1.0\n",
    "relative_pile_load = None  #\n",
    "\n",
    "# ** soil_load_sls:\n",
    "# The overburden-pressure at surface-level [kPa]\n",
    "# If None, the default is 0.0\n",
    "soil_load_sls = None"
   ]
  },
  {
   "cell_type": "markdown",
   "metadata": {},
   "source": [
    "#### Negative Friction input"
   ]
  },
  {
   "cell_type": "code",
   "execution_count": 8,
   "metadata": {},
   "outputs": [],
   "source": [
    "# ** negative_shaft_friction\n",
    "# A fixed value of the negative-shaft friction force [kN].\n",
    "# All other negative-friction settings will be ignored if you fill this.\n",
    "# Accepted values: > 0.0\n",
    "negative_shaft_friction = None\n",
    "\n",
    "# ** friction_range_strategy\n",
    "# Determination of the positive and negative friction strategy\n",
    "# For manual determination use 'manual', else 'lower_bound' or 'settlement_driven'\n",
    "friction_range_strategy = \"lower_bound\"\n",
    "\n",
    "# Only used with friction range strategy \"manual\"\n",
    "fixed_negative_friction_range_nap = (0.0, -5.0)\n",
    "fixed_positive_friction_range_nap = (-5.0, \"ptl\")\n",
    "\n",
    "# ** Overrule ranges for specific CPTs\n",
    "# If desired, you can also specify friction ranges per CPT\n",
    "# The values provided below will overwrite the friction ranges for those specific CPTs.\n",
    "\n",
    "# ** set_positive_friction_range_nap\n",
    "# dictionary with key cpt name and value a tuple with upper and lower bound\n",
    "# e.g.: {\"S03\": (-17.5, 'ptl')}\n",
    "set_positive_friction_range_nap: Mapping[Any, Tuple[float, str]] = {}\n",
    "\n",
    "# ** set_negative_friction_range_nap\n",
    "# dictionary with key cpt name and value a tuple with upper and lower bound\n",
    "# e.g.: {\"S03\": (-5.5, -17.5)}\n",
    "set_negative_friction_range_nap: Mapping[Any, Tuple[float, str]] = {}"
   ]
  },
  {
   "cell_type": "markdown",
   "metadata": {},
   "source": [
    "#### Safety Factors input"
   ]
  },
  {
   "cell_type": "code",
   "execution_count": 9,
   "metadata": {},
   "outputs": [],
   "source": [
    "# ** gamma_r_b\n",
    "# Safetyfactor on the pile-tip bearing capacity\n",
    "# If None, the default is 1.2\n",
    "gamma_r_b = 1.2\n",
    "\n",
    "# ** gamma_r_s\n",
    "# Safetyfactor on the sleeve-friction bearing capacity\n",
    "# If None, the default is 1.2\n",
    "gamma_r_s = 1.2\n",
    "\n",
    "# ** gamma_f_nk\n",
    "# Safetyfactor on the negative friction\n",
    "# Note: Use 1.4 if bottom negative friction ≠ positive friction\n",
    "# If None, the default is 1.0\n",
    "gamma_f_nk = 1.0\n",
    "\n",
    "# ** overrule_xi\n",
    "# Sets a fixed value for xi\n",
    "overrule_xi = None"
   ]
  },
  {
   "cell_type": "markdown",
   "metadata": {},
   "source": [
    "## Pile input\n",
    "---\n",
    "\n",
    "### General specifications"
   ]
  },
  {
   "cell_type": "code",
   "execution_count": 10,
   "metadata": {},
   "outputs": [],
   "source": [
    "# ** pile_name\n",
    "# The name of the pile (For potential plotting purposes)\n",
    "pile_name = None\n",
    "\n",
    "# ** pile_type\n",
    "# The English-equivalent of the \"Type\" section in the table below.\n",
    "# Accepted values: [\"concrete\", \"steel\", \"micro\", \"wood\"]\n",
    "pile_type = \"concrete\"\n",
    "\n",
    "# ** specification\n",
    "# The English-equivalent of the \"Specificatie\" section in the table below.\n",
    "specification = \"3\"\n",
    "\n",
    "# ** installation\n",
    "# The English-equivalent of the \"Installatie\" section in the table below.\n",
    "installation = \"D\"\n",
    "\n",
    "# ** pile_shape\n",
    "# The shape of the pile\n",
    "# Accepted values: [\"round\", \"rect\"]\n",
    "pile_shape = \"round\"\n",
    "\n",
    "# ** apply_qc3_reduction\n",
    "# Determines if the reduction on the qc;III trajectory for auger piles should be applied\n",
    "# conform 7.6.2.3(e) of NEN 9997-1. If None, the value is inferred from the pile type:\n",
    "# only True for auger piles. If a boolean is provided, the qc3 reduction is/isn't\n",
    "# applied, regardless of the pile type.\n",
    "apply_qc3_reduction = None"
   ]
  },
  {
   "cell_type": "markdown",
   "metadata": {},
   "source": [
    "![](img/table_piles.png)"
   ]
  },
  {
   "cell_type": "markdown",
   "metadata": {},
   "source": [
    "### Rectangular pile dimensions\n",
    "\n",
    "Only fill these values if the `pile_shape` == \"rect\". Otherwise they are ignored"
   ]
  },
  {
   "cell_type": "code",
   "execution_count": 11,
   "metadata": {},
   "outputs": [],
   "source": [
    "# ** width_base_large\n",
    "# Largest dimension of the pile base [m].\n",
    "width_base_large = 0.40\n",
    "\n",
    "# ** width_base_small\n",
    "# Smallest dimension of the pile base [m].\n",
    "# If None, a square base is inferred, with `width_base_large` as dimension.\n",
    "width_base_small = None\n",
    "\n",
    "# ** height_base\n",
    "# Height of pile base [m]. If None, a pile with constant dimension is inferred.\n",
    "# Cannot be None if the shaft dimensions are not equal to the base dimensions.\n",
    "height_base = None\n",
    "\n",
    "# ** width_shaft_large\n",
    "# Largest dimension of the pile shaft [m]. If None, `width_base_large` is used as\n",
    "# largest shaft dimension.\n",
    "width_shaft_large = None\n",
    "\n",
    "# ** width_shaft_small\n",
    "# Smallest dimension of the pile shaft [m]. If None, but `width_shaft_large` is not None,\n",
    "# then a square shaft is inferred, with `width_shaft_large` as dimension. If both\n",
    "# `width_shaft_small` and `width_shaft_large` are None, then the shaft dimensions are\n",
    "# equal to the base dimensions.\n",
    "width_shaft_small = None"
   ]
  },
  {
   "cell_type": "markdown",
   "metadata": {},
   "source": [
    "### Round pile dimensions\n",
    "\n",
    "Only fill these values if the `pile_shape` == \"round\". Otherwise they are ignored"
   ]
  },
  {
   "cell_type": "code",
   "execution_count": 12,
   "metadata": {},
   "outputs": [],
   "source": [
    "# ** diameter_base\n",
    "# Base diameter [m].\n",
    "diameter_base = 0.40\n",
    "\n",
    "# ** height_base\n",
    "# Height of pile base [m]. If None, a pile with constant dimension is inferred. Cannot\n",
    "# be None if diameter_base and diameter_shaft are unequal.\n",
    "height_base = None\n",
    "\n",
    "# ** diameter_shaft\n",
    "# Diameter of pile shaft [m]. If null, a pile with constant diameter (diameter_base) is\n",
    "# inferred.\n",
    "diameter_shaft = None"
   ]
  },
  {
   "cell_type": "markdown",
   "metadata": {},
   "source": [
    "### Optionally overwriteable pile input\n",
    "\n",
    "If you want to use the default pile specifications you can ignore this section. Any\n",
    "value provided will overwrite the default value."
   ]
  },
  {
   "cell_type": "code",
   "execution_count": 13,
   "metadata": {},
   "outputs": [],
   "source": [
    "# Optional Input\n",
    "\n",
    "# ** settlement_curve\n",
    "# Settlement lines for figures 7.n and 7.o of NEN-9997-1 As defined in table 7.c of\n",
    "# NEN-9997-1. The value is inferred from the pile_type_specifications, but can be\n",
    "# overwritten\n",
    "settlement_curve = None\n",
    "\n",
    "# ** adhesion\n",
    "# Optional adhesion value, use it if the pile shaft has undergone a special treatment.\n",
    "# Examples:\n",
    "# - adhesion = 50 kN/m2 for synthetic coating\n",
    "# - adhesion = 20 kN/m2 for bentonite\n",
    "# - adhesion = 10 kN/m2 for bitumen coating\n",
    "# See 7.3.2.2(d) of NEN 9997-1 for examples.\n",
    "adhesion = None  # kPa\n",
    "\n",
    "# ** alpha_p\n",
    "# Alpha p factor used in pile tip resistance calculation. The value is inferred from the\n",
    "# pile_type_specifications, but can be overwritten.\n",
    "alpha_p = None\n",
    "\n",
    "# ** alpha_s_clay\n",
    "# Alpha s factor for soft layers used in the positive friction calculation. If None the\n",
    "# factor is determined as specified in table 7.d of NEN 9997-1.\n",
    "alpha_s_clay = None\n",
    "\n",
    "# ** alpha_s_sand\n",
    "# Alpha s factor for coarse layers used in the positive friction calculation. The value\n",
    "# is inferred from the pile_type_specifications, but can be overwritten.\n",
    "alpha_s_sand = None\n",
    "\n",
    "# ** beta_p\n",
    "# Factor s used in pile tip resistance calculation as per NEN 9997-1 7.6.2.3 (h). The\n",
    "# value is inferred from the pile dimension properties, but can be overwritten.\n",
    "beta_p = None\n",
    "\n",
    "# ** pile_tip_factor_s\n",
    "#\n",
    "pile_tip_factor_s = None\n",
    "\n",
    "# ** elastic_modulus\n",
    "# Modulus of elasticity of the pile [MPa]. The value is inferred from the\n",
    "# pile_type_specifications, but can be overwritten.\n",
    "elastic_modulus = None\n",
    "\n",
    "# ** is_auger\n",
    "# Determines weather the pile the pile is an auger pile or not. The value is inferred\n",
    "# from the pile_type_specifications, but can be overwritten.\n",
    "# Accepted values: [True, False, None]\n",
    "is_auger = None\n",
    "\n",
    "# ** is_low_vibrating\n",
    "# Determines weather the pile has an installation type with low vibration. The value is\n",
    "# inferred from the pile_type_specifications, but can be overwritten.\n",
    "# Accepted values: [True, False, None]\n",
    "is_low_vibrating = None\n",
    "\n",
    "# ** negative_fr_delta_factor\n",
    "# factor * φ = δ. This parameter will be multiplied with phi to get the delta parameter\n",
    "# used in negative friction calculation according to NEN-9997-1 7.3.2.2 (e). Typically\n",
    "# values are 1.0 for piles cast in place, and 0.75 for other pile types. The value is\n",
    "# inferred from the pile_type_specifications, but can be overwritten.\n",
    "negative_fr_delta_factor = None"
   ]
  },
  {
   "cell_type": "markdown",
   "metadata": {},
   "source": [
    "### Other input\n",
    "\n",
    "Some other input values.\n",
    "\n",
    "Look [here](https://www.almere.nl/fileadmin/user_upload/Richtlijnen_Constructie_Gem._Almere_vanaf_01-01-2017_versie_3.0a.pdf) for more info about the Almere rules."
   ]
  },
  {
   "cell_type": "code",
   "execution_count": 14,
   "metadata": {},
   "outputs": [],
   "source": [
    "# ** use_almere_rules\n",
    "# If set to True the contribution, produced by the positive shaft friction, to the total\n",
    "# bearing capacity is limited to at most 75% the contribution provided by the pile tip.\n",
    "use_almere_rules = None"
   ]
  },
  {
   "cell_type": "markdown",
   "metadata": {},
   "source": [
    "### Report content\n",
    "\n",
    "These values define the content of the report"
   ]
  },
  {
   "cell_type": "code",
   "execution_count": 15,
   "metadata": {},
   "outputs": [],
   "source": [
    "# ** group_results_content\n",
    "# Whether or not to add a section with the results of all CPTs considered as one\n",
    "# statistical group.\n",
    "# Accepted values: [True, False]\n",
    "group_results_content = True\n",
    "\n",
    "# ** individual_cpt_results_content\n",
    "# Whether or not to add a separate result section for each individual CPT.\n",
    "# Accepted values: [True, False]\n",
    "individual_cpt_results_content = True\n",
    "\n",
    "# ** result_summary_content\n",
    "# Whether or not to add a summary of all results in the beginning of the report.\n",
    "# Accepted values: [True, False]\n",
    "result_summary_content = True"
   ]
  },
  {
   "cell_type": "markdown",
   "metadata": {},
   "source": [
    "<div style=\"background: #f2ed4c;\n",
    "            width: 100%;\n",
    "            color: black;\n",
    "            text-align: center;\">\n",
    "<b>END USER INPUT<b>\n",
    "</div>\n",
    "\n",
    "After this point, modifications are for expert users"
   ]
  },
  {
   "cell_type": "markdown",
   "metadata": {},
   "source": [
    "#### Download CPTs in project"
   ]
  },
  {
   "cell_type": "code",
   "execution_count": 16,
   "metadata": {},
   "outputs": [
    {
     "name": "stderr",
     "output_type": "stream",
     "text": [
      "Download and classify CPT from BRO: 100%|██████████████████████████████████████████████████████████████████████████████████████████████████████████████████████████████████████████████████████| 1/1 [00:00<00:00,  1.37it/s]\n"
     ]
    }
   ],
   "source": [
    "# Get CPTs\n",
    "# loop over the cpt id's and fetch file from BRO\n",
    "cptdata_objects = []\n",
    "classify_tables: Dict[str, dict] = {}\n",
    "for file_metadata in tqdm(cpt_selection, desc=\"Download and classify CPT from BRO\"):\n",
    "    # download CPT from BRO\n",
    "    response = client.session.get(\n",
    "        url=f\"https://publiek.broservices.nl/sr/cpt/v1/objects/{file_metadata}\"\n",
    "    )\n",
    "    if not response.ok:\n",
    "        print(\n",
    "            f\"RuntimeError: {file_metadata} could not be donwloaded from de BRO server. \\n Statuse code: {response.status_code}\"\n",
    "        )\n",
    "        continue\n",
    "\n",
    "    cpt = pygef.read_cpt(io.BytesIO(response.content))\n",
    "    object.__setattr__(cpt, \"alias\", file_metadata)\n",
    "    \n",
    "    data = cpt.data.drop_nulls()\n",
    "\n",
    "    # classify CPT with CPTCore\n",
    "    payload = {\n",
    "        \"aggregateLayersPenalty\": 5,\n",
    "        \"minimumSegmentLength\": 15,\n",
    "        \"data\": {\n",
    "            \"coneResistance\": data.get_column(\"coneResistance\").clip(0, 50).to_list(),\n",
    "            \"correctedPenetrationLength\": data.get_column(\"depth\").to_list(),\n",
    "            \"localFriction\": data.get_column(\"localFriction\").clip(0, 50).to_list(),\n",
    "        },\n",
    "        \"verticalPositionOffset\": cpt.delivered_vertical_position_offset,\n",
    "        \"x\": cpt.delivered_location.x,\n",
    "        \"y\": cpt.delivered_location.y,\n",
    "    }\n",
    "    if \"porePressureU2\" in data.columns:\n",
    "        payload[\"data\"][\"porePressureU2\"] = (\n",
    "            data.get_column(\"porePressureU2\").clip(0, 50).to_list(),\n",
    "        )[0]\n",
    "\n",
    "    response = client.session.post(\n",
    "        f\"https://crux-nuclei.com/api/cptcore/v1/classify/{classify_metode}\",\n",
    "        json=payload,\n",
    "    )\n",
    "    if not response.ok:\n",
    "        print(\n",
    "            f\"RuntimeError: {file_metadata} could not be classified. \\n Statuse code: {response.status_code}\"\n",
    "        )\n",
    "        continue\n",
    "\n",
    "    cptdata_objects.append(cpt)\n",
    "    classify_tables[file_metadata] = response.json()"
   ]
  },
  {
   "cell_type": "markdown",
   "metadata": {},
   "source": [
    "#### Call PileCore-API"
   ]
  },
  {
   "cell_type": "code",
   "execution_count": 18,
   "metadata": {},
   "outputs": [
    {
     "name": "stderr",
     "output_type": "stream",
     "text": [
      "Create soil properties payload: 100%|████████████████████████████████████████████████████████████████████████████████████████████████████████████████████████████████████████████████████████| 1/1 [00:00<00:00, 1954.48it/s]\n"
     ]
    }
   ],
   "source": [
    "# Get results\n",
    "\n",
    "multi_cpt_payload, results_passover = create_multi_cpt_payload(\n",
    "    cptdata_objects=cptdata_objects,\n",
    "    classify_tables=classify_tables,\n",
    "    groundwater_level_nap=groundwater_level_nap,\n",
    "    friction_range_strategy=friction_range_strategy,\n",
    "    excavation_depth_nap=excavation_depth_nap,\n",
    "    individual_negative_friction_range_nap=set_negative_friction_range_nap,\n",
    "    individual_positive_friction_range_nap=set_positive_friction_range_nap,\n",
    "    pile_type=pile_type,\n",
    "    specification=specification,\n",
    "    installation=installation,\n",
    "    pile_shape=pile_shape,\n",
    "    diameter_base=diameter_base,\n",
    "    diameter_shaft=diameter_shaft,\n",
    "    width_base_large=width_base_large,\n",
    "    width_base_small=width_base_small,\n",
    "    width_shaft_large=width_shaft_large,\n",
    "    width_shaft_small=width_shaft_small,\n",
    "    height_base=height_base,\n",
    "    settlement_curve=settlement_curve,\n",
    "    adhesion=adhesion,\n",
    "    alpha_p=alpha_p,\n",
    "    alpha_s_clay=alpha_s_clay,\n",
    "    alpha_s_sand=alpha_s_sand,\n",
    "    beta_p=beta_p,\n",
    "    pile_tip_factor_s=pile_tip_factor_s,\n",
    "    elastic_modulus=elastic_modulus,\n",
    "    is_auger=is_auger,\n",
    "    is_low_vibrating=is_low_vibrating,\n",
    "    negative_fr_delta_factor=negative_fr_delta_factor,\n",
    "    excavation_param_t=excavation_param_t,\n",
    "    pile_head_level_nap=pile_head_level_nap,\n",
    "    pile_load_sls=pile_load_sls,\n",
    "    pile_tip_levels_nap=pile_tip_levels_nap,\n",
    "    relative_pile_load=relative_pile_load,\n",
    "    apply_qc3_reduction=apply_qc3_reduction,\n",
    "    negative_shaft_friction=negative_shaft_friction,\n",
    "    fixed_negative_friction_range_nap=fixed_negative_friction_range_nap,\n",
    "    fixed_positive_friction_range_nap=fixed_positive_friction_range_nap,\n",
    "    gamma_f_nk=gamma_f_nk,\n",
    "    gamma_r_b=gamma_r_b,\n",
    "    gamma_r_s=gamma_r_s,\n",
    "    overrule_xi=overrule_xi,\n",
    "    soil_load_sls=soil_load_sls,\n",
    "    use_almere_rules=use_almere_rules,\n",
    "    stiff_construction=stiff_construction,\n",
    "    cpts_group=None,\n",
    ")\n",
    "\n",
    "api_response = api.get_multi_cpt_api_result(client=client, payload=multi_cpt_payload)\n",
    "\n",
    "results = MultiCPTBearingResults.from_api_response(\n",
    "    response_dict=api_response,\n",
    "    cpt_input=results_passover,\n",
    ")"
   ]
  },
  {
   "cell_type": "markdown",
   "metadata": {},
   "source": [
    "## View Results"
   ]
  },
  {
   "cell_type": "code",
   "execution_count": 21,
   "metadata": {},
   "outputs": [
    {
     "data": {
      "text/plain": [
       "['CPT000000200908']"
      ]
     },
     "execution_count": 21,
     "metadata": {},
     "output_type": "execute_result"
    }
   ],
   "source": [
    "# Get the available CPT names\n",
    "results.cpt_names"
   ]
  },
  {
   "cell_type": "code",
   "execution_count": 24,
   "metadata": {},
   "outputs": [],
   "source": [
    "# Select a CPT test-id to display\n",
    "display_test_id = results.cpt_results[\"CPT000000200908\"]"
   ]
  },
  {
   "cell_type": "code",
   "execution_count": 29,
   "metadata": {},
   "outputs": [
    {
     "data": {
      "text/plain": [
       "<Axes: xlabel='[kN]', ylabel='[m] w.r.t. NAP'>"
      ]
     },
     "execution_count": 29,
     "metadata": {},
     "output_type": "execute_result"
    },
    {
     "data": {
      "image/png": "[encoded data removed]",
      "text/plain": [
       "<Figure size 800x1000 with 1 Axes>"
      ]
     },
     "metadata": {},
     "output_type": "display_data"
    }
   ],
   "source": [
    "results.group_results_table.plot_bearing_capacities()"
   ]
  },
  {
   "cell_type": "code",
   "execution_count": 26,
   "metadata": {},
   "outputs": [
    {
     "ename": "AttributeError",
     "evalue": "'dict' object has no attribute 'plot_qc'",
     "output_type": "error",
     "traceback": [
      "\u001b[0;31m---------------------------------------------------------------------------\u001b[0m",
      "\u001b[0;31mAttributeError\u001b[0m                            Traceback (most recent call last)",
      "Cell \u001b[0;32mIn[26], line 1\u001b[0m\n\u001b[0;32m----> 1\u001b[0m \u001b[43mdisplay_test_id\u001b[49m\u001b[38;5;241;43m.\u001b[39;49m\u001b[43mplot_bearing_overview\u001b[49m\u001b[43m(\u001b[49m\u001b[43m)\u001b[49m;\n",
      "File \u001b[0;32m~/miniconda3/envs/py-pilecore/lib/python3.9/site-packages/pypilecore/results/single_cpt_results.py:399\u001b[0m, in \u001b[0;36mSingleCPTBearingResults.plot_bearing_overview\u001b[0;34m(self, figsize, width_ratios, add_legend, **kwargs)\u001b[0m\n\u001b[1;32m    396\u001b[0m \u001b[38;5;28;01massert\u001b[39;00m \u001b[38;5;28misinstance\u001b[39m(ax_rf, Axes)\n\u001b[1;32m    398\u001b[0m \u001b[38;5;66;03m# Plot bearing capacities\u001b[39;00m\n\u001b[0;32m--> 399\u001b[0m \u001b[38;5;28;43mself\u001b[39;49m\u001b[38;5;241;43m.\u001b[39;49m\u001b[43msoil_properties\u001b[49m\u001b[38;5;241;43m.\u001b[39;49m\u001b[43mcpt_table\u001b[49m\u001b[38;5;241;43m.\u001b[39;49m\u001b[43mplot_qc\u001b[49m(ax_qc, add_legend\u001b[38;5;241m=\u001b[39m\u001b[38;5;28;01mFalse\u001b[39;00m)\n\u001b[1;32m    400\u001b[0m \u001b[38;5;28mself\u001b[39m\u001b[38;5;241m.\u001b[39msoil_properties\u001b[38;5;241m.\u001b[39mcpt_table\u001b[38;5;241m.\u001b[39mplot_friction_ratio(ax_rf, add_legend\u001b[38;5;241m=\u001b[39m\u001b[38;5;28;01mFalse\u001b[39;00m)\n\u001b[1;32m    401\u001b[0m \u001b[38;5;28mself\u001b[39m\u001b[38;5;241m.\u001b[39msoil_properties\u001b[38;5;241m.\u001b[39mplot_layers(ax_layers, add_legend\u001b[38;5;241m=\u001b[39m\u001b[38;5;28;01mFalse\u001b[39;00m)\n",
      "\u001b[0;31mAttributeError\u001b[0m: 'dict' object has no attribute 'plot_qc'"
     ]
    },
    {
     "data": {
      "image/png": "[encoded data removed]",
      "text/plain": [
       "<Figure size 1000x1200 with 4 Axes>"
      ]
     },
     "metadata": {},
     "output_type": "display_data"
    }
   ],
   "source": [
    "results.get_cpt_results(test_id=display_test_id).plot_bearing_overview();"
   ]
  },
  {
   "cell_type": "code",
   "execution_count": 31,
   "metadata": {},
   "outputs": [
    {
     "ename": "AttributeError",
     "evalue": "'MultiCPTBearingResults' object has no attribute 'plot_group_bearing_capacities'",
     "output_type": "error",
     "traceback": [
      "\u001b[0;31m---------------------------------------------------------------------------\u001b[0m",
      "\u001b[0;31mAttributeError\u001b[0m                            Traceback (most recent call last)",
      "Cell \u001b[0;32mIn[31], line 1\u001b[0m\n\u001b[0;32m----> 1\u001b[0m \u001b[43mresults\u001b[49m\u001b[38;5;241;43m.\u001b[39;49m\u001b[43mplot_group_bearing_capacities\u001b[49m();\n",
      "\u001b[0;31mAttributeError\u001b[0m: 'MultiCPTBearingResults' object has no attribute 'plot_group_bearing_capacities'"
     ]
    }
   ],
   "source": [
    "results.plot_group_bearing_capacities();"
   ]
  },
  {
   "cell_type": "code",
   "execution_count": 34,
   "metadata": {},
   "outputs": [
    {
     "data": {
      "image/png": "[encoded data removed]",
      "text/plain": [
       "<Figure size 600x600 with 1 Axes>"
      ]
     },
     "metadata": {},
     "output_type": "display_data"
    }
   ],
   "source": [
    "results.plot_load_settlement(-18);"
   ]
  },
  {
   "cell_type": "code",
   "execution_count": 35,
   "metadata": {},
   "outputs": [
    {
     "ename": "AttributeError",
     "evalue": "'MultiCPTBearingResults' object has no attribute 'group_summary_df'",
     "output_type": "error",
     "traceback": [
      "\u001b[0;31m---------------------------------------------------------------------------\u001b[0m",
      "\u001b[0;31mAttributeError\u001b[0m                            Traceback (most recent call last)",
      "Cell \u001b[0;32mIn[35], line 1\u001b[0m\n\u001b[0;32m----> 1\u001b[0m \u001b[43mresults\u001b[49m\u001b[38;5;241;43m.\u001b[39;49m\u001b[43mgroup_summary_df\u001b[49m\u001b[38;5;241m.\u001b[39mround(\u001b[38;5;241m2\u001b[39m)\n",
      "\u001b[0;31mAttributeError\u001b[0m: 'MultiCPTBearingResults' object has no attribute 'group_summary_df'"
     ]
    }
   ],
   "source": [
    "results.group_summary_df.round(2)"
   ]
  },
  {
   "cell_type": "markdown",
   "metadata": {},
   "source": [
    "Results for individual CPTs"
   ]
  },
  {
   "cell_type": "code",
   "execution_count": null,
   "metadata": {},
   "outputs": [],
   "source": [
    "R_b_cal = results.get_results_per_cpt(column_name=\"R_b_cal\").round(1)\n",
    "# R_b_cal.to_csv(f\"{project_name} puntweerstand (zonder factoren).csv\")\n",
    "\n",
    "print(\"Puntweerstand (zonder factoren)\")\n",
    "R_b_cal"
   ]
  },
  {
   "cell_type": "code",
   "execution_count": null,
   "metadata": {},
   "outputs": [],
   "source": [
    "R_s_cal = results.get_results_per_cpt(column_name=\"R_s_cal\").round(1)\n",
    "# R_s_cal.to_csv(f\"{project_name} Schachtweerstand (zonder factoren).csv\")\n",
    "\n",
    "print(\"Schachtweerstand (zonder factoren)\")\n",
    "R_s_cal"
   ]
  },
  {
   "cell_type": "code",
   "execution_count": null,
   "metadata": {},
   "outputs": [],
   "source": [
    "F_nk_cal = results.get_results_per_cpt(column_name=\"F_nk_cal\").round(1)\n",
    "# F_nk_cal.to_csv(f\"{project_name} negatieve kleef.csv\")\n",
    "\n",
    "print(\"Negatieve kleef\")\n",
    "F_nk_cal"
   ]
  },
  {
   "cell_type": "code",
   "execution_count": null,
   "metadata": {},
   "outputs": [],
   "source": [
    "R_c_cal = results.get_results_per_cpt(column_name=\"R_c_cal\").round(1)\n",
    "# R_c_cal.to_csv(\n",
    "#     f\"{project_name} paaldraagvermogen individuele sonderingen (zonder factoren).csv\"\n",
    "# )\n",
    "\n",
    "print(\"Paaldraagvermogen individuele sonderingen (zonder factoren)\")\n",
    "R_c_cal"
   ]
  },
  {
   "cell_type": "code",
   "execution_count": null,
   "metadata": {},
   "outputs": [],
   "source": [
    "R_c_net_d = results.get_results_per_cpt(column_name=\"R_c_d_net\").round(1)\n",
    "# R_c_net_d.round(1).to_csv(f\"{project_name} rekenwaarde netto paaldraagvermogen.csv\")\n",
    "\n",
    "print(\"Rekenwaarde netto paaldraagvermogen individuele sonderingen\")\n",
    "R_c_net_d"
   ]
  },
  {
   "cell_type": "markdown",
   "metadata": {},
   "source": [
    "## Report"
   ]
  },
  {
   "cell_type": "code",
   "execution_count": null,
   "metadata": {},
   "outputs": [],
   "source": [
    "# Create report\n",
    "\n",
    "# Close all open plots to save memory\n",
    "plt.close(\"All\")\n",
    "\n",
    "multi_cpt_report_payload = create_multi_cpt_report_payload(\n",
    "    multi_cpt_payload=multi_cpt_payload,\n",
    "    project_name=project_name,\n",
    "    project_id=str(project_id),\n",
    "    author=author,\n",
    "    date=datetime.date.today().strftime(\"%d-%m-%y\"),\n",
    "    group_results_content=group_results_content,\n",
    "    individual_cpt_results_content=individual_cpt_results_content,\n",
    "    result_summary_content=result_summary_content,\n",
    ")\n",
    "\n",
    "report = get_multi_cpt_api_report(client=client, payload=multi_cpt_report_payload)\n",
    "\n",
    "with open(f\"{project_name} report.pdf\", \"wb\") as f:\n",
    "    f.write(report)"
   ]
  },
  {
   "cell_type": "code",
   "execution_count": null,
   "metadata": {},
   "outputs": [],
   "source": []
  }
 ],
 "metadata": {
  "kernelspec": {
   "display_name": "Python 3 (ipykernel)",
   "language": "python",
   "name": "python3"
  },
  "language_info": {
   "codemirror_mode": {
    "name": "ipython",
    "version": 3
   },
   "file_extension": ".py",
   "mimetype": "text/x-python",
   "name": "python",
   "nbconvert_exporter": "python",
   "pygments_lexer": "ipython3",
   "version": "3.9.18"
  }
 },
 "nbformat": 4,
 "nbformat_minor": 4
}
